{
 "cells": [
  {
   "cell_type": "code",
   "execution_count": 1,
   "metadata": {
    "collapsed": false
   },
   "outputs": [],
   "source": [
    "%matplotlib inline"
   ]
  },
  {
   "cell_type": "markdown",
   "metadata": {},
   "source": [
    "\n",
    "==================\n",
    "ENN, RENN, All-KNN\n",
    "==================\n",
    "\n",
    "An illustration of the ENN, RENN, and All-KNN method.\n",
    "\n",
    "\n"
   ]
  },
  {
   "cell_type": "code",
   "execution_count": 2,
   "metadata": {
    "collapsed": false
   },
   "outputs": [
    {
     "name": "stdout",
     "output_type": "stream",
     "text": [
      "Automatically created module for IPython interactive environment\n",
      "ENN\n",
      "Reduced 13.00%\n",
      "RENN\n",
      "Reduced 20.00%\n",
      "AllKNN\n",
      "Reduced 15.00%\n"
     ]
    },
    {
     "data": {
      "image/png": "[encoded data removed]",
      "text/plain": [
       "<matplotlib.figure.Figure at 0x1bb90cd4828>"
      ]
     },
     "metadata": {},
     "output_type": "display_data"
    }
   ],
   "source": [
    "# Authors: Dayvid Oliveira\n",
    "#          Christos Aridas\n",
    "#          Guillaume Lemaitre <g.lemaitre58@gmail.com>\n",
    "# License: MIT\n",
    "\n",
    "import matplotlib.pyplot as plt\n",
    "import numpy as np\n",
    "from sklearn.datasets import make_classification\n",
    "from sklearn.decomposition import PCA\n",
    "\n",
    "from imblearn.under_sampling import (AllKNN, EditedNearestNeighbours,\n",
    "                                     RepeatedEditedNearestNeighbours)\n",
    "\n",
    "print(__doc__)\n",
    "\n",
    "\n",
    "def plot_resampling(ax, X, y, title):\n",
    "    c0 = ax.scatter(X[y == 0, 0], X[y == 0, 1], label=\"Class #0\", alpha=0.5)\n",
    "    c1 = ax.scatter(X[y == 1, 0], X[y == 1, 1], label=\"Class #1\", alpha=0.5)\n",
    "    ax.set_title(title)\n",
    "    ax.spines['top'].set_visible(False)\n",
    "    ax.spines['right'].set_visible(False)\n",
    "    ax.get_xaxis().tick_bottom()\n",
    "    ax.get_yaxis().tick_left()\n",
    "    ax.spines['left'].set_position(('outward', 10))\n",
    "    ax.spines['bottom'].set_position(('outward', 10))\n",
    "    ax.set_xlim([-6, 8])\n",
    "    ax.set_ylim([-6, 6])\n",
    "\n",
    "    return c0, c1\n",
    "\n",
    "\n",
    "# Generate the dataset\n",
    "X, y = make_classification(n_classes=2, class_sep=0.4, weights=[0.4, 0.6],\n",
    "                           n_informative=3, n_redundant=1, flip_y=0,\n",
    "                           n_features=5, n_clusters_per_class=1,\n",
    "                           n_samples=100, random_state=10)\n",
    "\n",
    "# Instanciate a PCA object for the sake of easy visualisation\n",
    "pca = PCA(n_components=2)\n",
    "# Fit and transform x to visualise inside a 2D feature space\n",
    "X_vis = pca.fit_transform(X)\n",
    "\n",
    "# Three subplots, unpack the axes array immediately\n",
    "f, ((ax1, ax2), (ax3, ax4)) = plt.subplots(2, 2)\n",
    "\n",
    "c0, c1 = plot_resampling(ax1, X_vis, y, 'Original set')\n",
    "\n",
    "# Apply the ENN\n",
    "print('ENN')\n",
    "enn = EditedNearestNeighbours(return_indices=True)\n",
    "X_resampled, y_resampled, idx_resampled = enn.fit_sample(X, y)\n",
    "X_res_vis = pca.transform(X_resampled)\n",
    "idx_samples_removed = np.setdiff1d(np.arange(X_vis.shape[0]), idx_resampled)\n",
    "reduction_str = ('Reduced {:.2f}%'.format(100 * (1 - float(len(X_resampled)) /\n",
    "                                                 len(X))))\n",
    "print(reduction_str)\n",
    "c3 = ax2.scatter(X_vis[idx_samples_removed, 0],\n",
    "                 X_vis[idx_samples_removed, 1],\n",
    "                 alpha=.2, label='Removed samples', c='g')\n",
    "plot_resampling(ax2, X_res_vis, y_resampled, 'ENN - ' + reduction_str)\n",
    "\n",
    "# Apply the RENN\n",
    "print('RENN')\n",
    "renn = RepeatedEditedNearestNeighbours(return_indices=True)\n",
    "X_resampled, y_resampled, idx_resampled = renn.fit_sample(X, y)\n",
    "X_res_vis = pca.transform(X_resampled)\n",
    "idx_samples_removed = np.setdiff1d(np.arange(X_vis.shape[0]), idx_resampled)\n",
    "reduction_str = ('Reduced {:.2f}%'.format(100 * (1 - float(len(X_resampled)) /\n",
    "                                                 len(X))))\n",
    "print(reduction_str)\n",
    "ax3.scatter(X_vis[idx_samples_removed, 0],\n",
    "            X_vis[idx_samples_removed, 1],\n",
    "            alpha=.2, label='Removed samples', c='g')\n",
    "plot_resampling(ax3, X_res_vis, y_resampled, 'RENN - ' + reduction_str)\n",
    "\n",
    "# Apply the AllKNN\n",
    "print('AllKNN')\n",
    "allknn = AllKNN(return_indices=True)\n",
    "X_resampled, y_resampled, idx_resampled = allknn.fit_sample(X, y)\n",
    "X_res_vis = pca.transform(X_resampled)\n",
    "idx_samples_removed = np.setdiff1d(np.arange(X_vis.shape[0]), idx_resampled)\n",
    "reduction_str = ('Reduced {:.2f}%'.format(100 * (1 - float(len(X_resampled)) /\n",
    "                                                 len(X))))\n",
    "print(reduction_str)\n",
    "ax4.scatter(X_vis[idx_samples_removed, 0],\n",
    "            X_vis[idx_samples_removed, 1],\n",
    "            alpha=.2, label='Removed samples', c='g')\n",
    "plot_resampling(ax4, X_res_vis, y_resampled, 'All-KNN - ' + reduction_str)\n",
    "\n",
    "plt.figlegend((c0, c1, c3), ('Class #0', 'Class #1', 'Removed samples'),\n",
    "              loc='lower center', ncol=3, labelspacing=0.)\n",
    "plt.tight_layout(pad=3)\n",
    "plt.show()"
   ]
  }
 ],
 "metadata": {
  "kernelspec": {
   "display_name": "Python 3",
   "language": "python",
   "name": "python3"
  },
  "language_info": {
   "codemirror_mode": {
    "name": "ipython",
    "version": 3
   },
   "file_extension": ".py",
   "mimetype": "text/x-python",
   "name": "python",
   "nbconvert_exporter": "python",
   "pygments_lexer": "ipython3",
   "version": "3.6.0"
  }
 },
 "nbformat": 4,
 "nbformat_minor": 0
}
